{
 "cells": [
  {
   "cell_type": "code",
   "execution_count": 2,
   "metadata": {},
   "outputs": [],
   "source": [
    "import pandas as pd \n",
    "import numpy as np \n",
    "from scipy.special import logsumexp"
   ]
  },
  {
   "cell_type": "code",
   "execution_count": 3,
   "metadata": {},
   "outputs": [
    {
     "name": "stderr",
     "output_type": "stream",
     "text": [
      "C:\\Users\\dcald\\AppData\\Local\\Temp\\ipykernel_17680\\1084198695.py:4: FutureWarning: The 'delim_whitespace' keyword in pd.read_csv is deprecated and will be removed in a future version. Use ``sep='\\s+'`` instead\n",
      "  data = pd.read_csv('trajectories.txt', header=None, delim_whitespace=True, encoding='utf-16')\n"
     ]
    },
    {
     "name": "stdout",
     "output_type": "stream",
     "text": [
      "Mutual Information < I_c >: 6.21460809842175\n"
     ]
    }
   ],
   "source": [
    "# Set the noise parameter sigma (standard deviation)\n",
    "sigma = 1/11\n",
    "\n",
    "data = pd.read_csv('trajectories.txt', header=None, delim_whitespace=True, encoding='utf-16')\n",
    "\n",
    "# Get the number of rows (time steps) and columns.\n",
    "T, total_cols = data.shape\n",
    "M = total_cols // 2 #number f trajectories\n",
    "\n",
    "# Extract the positions and measurements into NumPy arrays.\n",
    "# positions: shape (T, M) where each column is a trajectory's true positions.\n",
    "# measurements: shape (T, M) where each column is the corresponding measurement trajectory.\n",
    "positions = data.iloc[:, 0::2].values  # even-indexed columns (true positions)\n",
    "measurements = data.iloc[:, 1::2].values  # odd-indexed columns (measurements)\n",
    "\n",
    "# Pre-calculate the constant part of the Gaussian log-probability.\n",
    "# For a single time step, the Gaussian PDF for the measurement given the true state is:\n",
    "#   P(m | x) = (1 / sqrt(2*pi*sigma^2)) * exp( - (m - x)^2 / (2*sigma^2) )\n",
    "# Taking the logarithm gives:\n",
    "#   ln P(m | x) = -0.5 * ln(2*pi*sigma^2) - (m - x)^2 / (2*sigma^2)\n",
    "# Since the system is Markovian, the probability of the whole trajectory is the product of the\n",
    "# individual probabilities. In the log domain, this becomes a sum over time steps.\n",
    "log_const = -0.5 * np.log(2 * np.pi * sigma**2)\n",
    "\n",
    "# ---------------------------------------------------\n",
    "# 1. Compute log probability for each trajectory using its own positions.\n",
    "# For each trajectory i, compute:\n",
    "#   ln P({y^(i)} | {x^(i)}) = sum_{t=1}^{T} [ log_const - (measurement[t,i] - position[t,i])^2 / (2*sigma^2) ]\n",
    "# We perform this sum over the time axis (axis 0) for each trajectory.\n",
    "log_p_y_given_x_self = np.sum(log_const - ((measurements - positions)**2) / (2 * sigma**2), axis=0)\n",
    "# log_p_y_given_x_self is a 1D array of shape (M,).\n",
    "#element-wise log sum. \n",
    "\n",
    "# ---------------------------------------------------\n",
    "# 2. Compute the full matrix of log probabilities.\n",
    "# We want to compute, for each pair (i, j):\n",
    "#   ln P({y^(i)} | {x^(j)}) = sum_{t=1}^{T} [ log_const - (measurement[t,i] - position[t,j])^2 / (2*sigma^2) ]\n",
    "#\n",
    "# This is the logarithm of the product over time steps, which we compute as a sum over t.\n",
    "# To vectorize this, we use broadcasting.\n",
    "# Create an array \"diff\" with shape (T, M, M) where:\n",
    "#   diff[t, i, j] = measurements[t, i] - positions[t, j]\n",
    "diff = measurements[:, :, np.newaxis] - positions[:, np.newaxis, :]  # shape: (T, M, M)\n",
    "# Square the differences and sum over time steps (axis 0) to obtain a matrix of shape (M, M):\n",
    "sum_sq_diff = np.sum(diff**2, axis=0)  # shape: (M, M)\n",
    "\n",
    "# Now compute the log probability matrix.\n",
    "# For each (i, j):\n",
    "#   log_prob_matrix[i, j] = T * log_const - (sum_sq_diff[i, j]) / (2*sigma^2)\n",
    "log_prob_matrix = T * log_const - sum_sq_diff / (2 * sigma**2)\n",
    "# Each element (i, j) corresponds to ln P({y^(i)} | {x^(j)}),\n",
    "# which is the sum of the log probabilities over all time steps.\n",
    "\n",
    "# ---------------------------------------------------\n",
    "# 3. Estimate the marginal probability for each measurement trajectory.\n",
    "# For a given measurement trajectory i, the marginal probability is approximated by averaging\n",
    "# the conditional probability P({y^(i)} | {x^(j)}) over all trajectories j:\n",
    "#   P({y^(i)}) ≈ (1/M) * sum_{j=1}^{M} P({y^(i)} | {x^(j)})\n",
    "# In the log domain, we compute:\n",
    "#   ln P({y^(i)}) = logsumexp( log_prob_matrix[i, :] ) - ln(M)\n",
    "log_p_y = logsumexp(log_prob_matrix, axis=1) - np.log(M)\n",
    "# log_p_y is a 1D array of shape (M,).\n",
    "\n",
    "# ---------------------------------------------------\n",
    "# 4. Compute the log ratio for each trajectory.\n",
    "# For each trajectory i, the log ratio is:\n",
    "#   log_ratio[i] = ln P({y^(i)} | {x^(i)}) - ln P({y^(i)})\n",
    "log_ratios = log_p_y_given_x_self - log_p_y\n",
    "\n",
    "# Finally, the mutual information I_c is the average of these log ratios over all trajectories.\n",
    "mean_I_c = np.mean(log_ratios)\n",
    "\n",
    "print(\"Mutual Information < I_c >:\", mean_I_c)\n"
   ]
  },
  {
   "cell_type": "code",
   "execution_count": null,
   "metadata": {},
   "outputs": [],
   "source": []
  }
 ],
 "metadata": {
  "kernelspec": {
   "display_name": "base",
   "language": "python",
   "name": "python3"
  },
  "language_info": {
   "codemirror_mode": {
    "name": "ipython",
    "version": 3
   },
   "file_extension": ".py",
   "mimetype": "text/x-python",
   "name": "python",
   "nbconvert_exporter": "python",
   "pygments_lexer": "ipython3",
   "version": "3.12.3"
  }
 },
 "nbformat": 4,
 "nbformat_minor": 2
}
